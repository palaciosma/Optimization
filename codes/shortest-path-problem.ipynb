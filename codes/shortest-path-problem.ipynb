{
 "cells": [
  {
   "cell_type": "code",
   "execution_count": null,
   "metadata": {},
   "outputs": [],
   "source": [
    "#shortest minimum problem.\n",
    "\n",
    "from pyomo.environ import*\n",
    "from pyomo.opt import*\n",
    "model=ConcreteModel()\n",
    "\n",
    "\n",
    "model.xoa=Var(within=Binary)\n",
    "model.xob=Var(within=Binary)\n",
    "model.xoc=Var(within=Binary)\n",
    "model.xab=Var(within=Binary)\n",
    "model.xad=Var(within=Binary)\n",
    "model.xcb=Var(within=Binary)\n",
    "model.xbd=Var(within=Binary)\n",
    "model.xbe=Var(within=Binary)\n",
    "model.xce=Var(within=Binary)\n",
    "model.xde=Var(within=Binary)\n",
    "model.xdt=Var(within=Binary)\n",
    "model.xet=Var(within=Binary)\n",
    "\n",
    "\n",
    "model.obj=Objective(expr=2*model.xoa+5*model.xob+4*model.xoc+2*model.xab+\n",
    "                    7*model.xad+1*model.xcb+4*model.xbd+3*model.xbe+\n",
    "                    4*model.xce+1*model.xde+5*model.xdt+7*model.xet,sense=minimize)\n",
    "\n",
    "model.con1=Constraint(expr=model.xoa+model.xob+model.xoc==1)\n",
    "model.con2=Constraint(expr=model.xoa==model.xab+model.xad)\n",
    "model.con3=Constraint(expr=model.xab+model.xob+model.xcb==model.xbd+model.xbe)\n",
    "model.con4=Constraint(expr=model.xoc==model.xcb+model.xce)\n",
    "model.con5=Constraint(expr=model.xad+model.xbd==model.xdt+model.xde)\n",
    "model.con6=Constraint(expr=model.xde+model.xbe+model.xce==model.xet)\n",
    "model.con7=Constraint(expr=model.xdt+model.xet==1)\n",
    "\n",
    "\n",
    "solver=SolverFactory('glpk')\n",
    "results=solver.solve(model)\n",
    "print(results)\n",
    "\n",
    "\n",
    "print('The value of xoa is', value(model.xoa))\n",
    "print('The value of xob is', value(model.xob))\n",
    "print('The value of xoc is', value(model.xoc))\n",
    "print('The value of xab is', value(model.xab))\n",
    "print('The value of xad is', value(model.xad))\n",
    "print('The value of xcb is', value(model.xcb))\n",
    "print('The value of xbd is', value(model.xbd))\n",
    "print('The value of xbe is', value(model.xbe))\n",
    "print('The value of xcd is', value(model.xcd))\n",
    "print('The value of xce is', value(model.xce))\n",
    "print('The value of xde is', value(model.xde))\n",
    "print('The value of xdt is', value(model.xdt))\n",
    "print('The value of xet is', value(model.xet))\n",
    "\n",
    "\n",
    "\n",
    "\n",
    "\n",
    "\n",
    "\n",
    "\n",
    "\n",
    "\n"
   ]
  },
  {
   "cell_type": "code",
   "execution_count": null,
   "metadata": {},
   "outputs": [],
   "source": []
  },
  {
   "cell_type": "code",
   "execution_count": null,
   "metadata": {},
   "outputs": [],
   "source": []
  }
 ],
 "metadata": {
  "kernelspec": {
   "display_name": "Python 3",
   "language": "python",
   "name": "python3"
  },
  "language_info": {
   "codemirror_mode": {
    "name": "ipython",
    "version": 3
   },
   "file_extension": ".py",
   "mimetype": "text/x-python",
   "name": "python",
   "nbconvert_exporter": "python",
   "pygments_lexer": "ipython3",
   "version": "3.7.3"
  }
 },
 "nbformat": 4,
 "nbformat_minor": 2
}
