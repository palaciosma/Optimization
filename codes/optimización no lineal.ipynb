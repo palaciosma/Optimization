{
 "cells": [
  {
   "cell_type": "code",
   "execution_count": 3,
   "metadata": {},
   "outputs": [
    {
     "name": "stdout",
     "output_type": "stream",
     "text": [
      "\n",
      "*** Solution *** :\n",
      "x_1: 16.000000000003553\n",
      "x_2: 10.999999999997632\n",
      "objective: 216.0\n"
     ]
    }
   ],
   "source": [
    "from pyomo.environ import *\n",
    "from pyomo.opt import *\n",
    "\n",
    "model = ConcreteModel()\n",
    "\n",
    "model.x_1 = Var(initialize=1.0, within=NonNegativeReals)#<----initial guess added\n",
    "model.x_2 = Var(initialize=1.0, within=NonNegativeReals)#<----initial guess added\n",
    "\n",
    "model.obj = Objective(expr=(model.x_1+2) * (model.x_2+1), sense=maximize)\n",
    "\n",
    "model.con1 = Constraint(expr=4*model.x_1+6*model.x_2 == 130)\n",
    "\n",
    "solver = SolverFactory('ipopt')#<----the solver has changed \n",
    "\n",
    "results = solver.solve(model)\n",
    "\n",
    "print()\n",
    "print('*** Solution *** :')\n",
    "print('x_1:', value(model.x_1))\n",
    "print('x_2:', value(model.x_2))\n",
    "print('objective:', value(model.obj))"
   ]
  },
  {
   "cell_type": "code",
   "execution_count": null,
   "metadata": {},
   "outputs": [],
   "source": []
  }
 ],
 "metadata": {
  "kernelspec": {
   "display_name": "Python 3",
   "language": "python",
   "name": "python3"
  },
  "language_info": {
   "codemirror_mode": {
    "name": "ipython",
    "version": 3
   },
   "file_extension": ".py",
   "mimetype": "text/x-python",
   "name": "python",
   "nbconvert_exporter": "python",
   "pygments_lexer": "ipython3",
   "version": "3.8.3"
  }
 },
 "nbformat": 4,
 "nbformat_minor": 2
}
