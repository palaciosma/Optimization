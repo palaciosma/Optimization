{
 "cells": [
  {
   "cell_type": "code",
   "execution_count": 2,
   "metadata": {},
   "outputs": [
    {
     "name": "stdout",
     "output_type": "stream",
     "text": [
      "\n",
      "Problem: \n",
      "- Name: unknown\n",
      "  Lower bound: 490.0\n",
      "  Upper bound: 490.0\n",
      "  Number of objectives: 1\n",
      "  Number of constraints: 8\n",
      "  Number of variables: 8\n",
      "  Number of nonzeros: 17\n",
      "  Sense: minimize\n",
      "Solver: \n",
      "- Status: ok\n",
      "  Termination condition: optimal\n",
      "  Statistics: \n",
      "    Branch and bound: \n",
      "      Number of bounded subproblems: 1\n",
      "      Number of created subproblems: 1\n",
      "  Error rc: 0\n",
      "  Time: 0.33556413650512695\n",
      "Solution: \n",
      "- number of solutions: 0\n",
      "  number of solutions displayed: 0\n",
      "\n",
      "the value of x1 is 0.0\n",
      "the value of x2 is 40.0\n",
      "the value of x3 is 10.0\n",
      "the value of x3 is 40.0\n",
      "the value of x3 is 80.0\n",
      "the value of x3 is 0.0\n",
      "the value of x3 is 20.0\n",
      "the value of obj is 490.0\n"
     ]
    }
   ],
   "source": [
    "from pyomo.environ import *\n",
    "from pyomo.opt import *\n",
    "model = ConcreteModel()\n",
    "model.x_ab = Var(within=NonNegativeIntegers)\n",
    "model.x_ac = Var(within=NonNegativeIntegers)\n",
    "model.x_ad = Var(within=NonNegativeIntegers)\n",
    "model.x_bc = Var(within=NonNegativeIntegers)\n",
    "model.x_ce = Var(within=NonNegativeIntegers)\n",
    "model.x_de = Var(within=NonNegativeIntegers)\n",
    "model.x_ed = Var(within=NonNegativeIntegers)\n",
    "\n",
    "model.obj = Objective(expr=2*model.x_ab+4*model.x_ac+\n",
    "9*model.x_ad+3*model.x_bc+model.x_ce+3*model.x_de+2*model.x_ed, sense=minimize)\n",
    "\n",
    "model.con1 = Constraint(expr=model.x_ab+model.x_ac+model.x_ad== 50)\n",
    "model.con2 = Constraint(expr=-model.x_ab+model.x_bc==40)\n",
    "model.con3 = Constraint(expr=-model.x_ac-model.x_bc+model.x_ce==0)\n",
    "model.con4 = Constraint(expr=-model.x_ad-model.x_ed+model.x_de==-30)\n",
    "model.con5 = Constraint(expr=-model.x_ce-model.x_de+model.x_ed==-60)\n",
    "model.con6 = Constraint(expr=model.x_ab<=10)\n",
    "model.con7 = Constraint(expr=model.x_ce<=80)\n",
    "\n",
    "solver = SolverFactory('glpk')\n",
    "results = solver.solve(model)\n",
    "print(results)\n",
    "print('the value of x1 is',value(model.x_ab))\n",
    "print('the value of x2 is',value(model.x_ac))\n",
    "print('the value of x3 is',value(model.x_ad))\n",
    "print('the value of x3 is',value(model.x_bc))\n",
    "print('the value of x3 is',value(model.x_ce))\n",
    "print('the value of x3 is',value(model.x_de))\n",
    "print('the value of x3 is',value(model.x_ed))\n",
    "print('the value of obj is',value(model.obj))"
   ]
  },
  {
   "cell_type": "code",
   "execution_count": null,
   "metadata": {},
   "outputs": [],
   "source": []
  }
 ],
 "metadata": {
  "kernelspec": {
   "display_name": "Python 3",
   "language": "python",
   "name": "python3"
  },
  "language_info": {
   "codemirror_mode": {
    "name": "ipython",
    "version": 3
   },
   "file_extension": ".py",
   "mimetype": "text/x-python",
   "name": "python",
   "nbconvert_exporter": "python",
   "pygments_lexer": "ipython3",
   "version": "3.8.3"
  }
 },
 "nbformat": 4,
 "nbformat_minor": 2
}
