{
 "cells": [
  {
   "cell_type": "code",
   "execution_count": 2,
   "metadata": {},
   "outputs": [
    {
     "name": "stdout",
     "output_type": "stream",
     "text": [
      "\n",
      "Problem: \n",
      "- Name: unknown\n",
      "  Lower bound: 10.0\n",
      "  Upper bound: 10.0\n",
      "  Number of objectives: 1\n",
      "  Number of constraints: 3\n",
      "  Number of variables: 3\n",
      "  Number of nonzeros: 5\n",
      "  Sense: minimize\n",
      "Solver: \n",
      "- Status: ok\n",
      "  Termination condition: optimal\n",
      "  Statistics: \n",
      "    Branch and bound: \n",
      "      Number of bounded subproblems: 0\n",
      "      Number of created subproblems: 0\n",
      "  Error rc: 0\n",
      "  Time: 0.05127120018005371\n",
      "Solution: \n",
      "- number of solutions: 0\n",
      "  number of solutions displayed: 0\n",
      "\n",
      "the value of x is 3.33333333333333\n",
      "the value of y is 0.0\n",
      "the maximum is 9.99999999999999\n"
     ]
    }
   ],
   "source": [
    "from pyomo.environ import *\n",
    "from pyomo.opt import *\n",
    "\n",
    "model=ConcreteModel()\n",
    "\n",
    "model.x=Var(within=NonNegativeReals)\n",
    "model.y=Var(within=NonNegativeReals)\n",
    "\n",
    "model.obj=Objective(expr=3*model.x+2*model.y, sense=minimize)\n",
    "\n",
    "model.con1=Constraint(expr=2*model.x+model.y>=5)\n",
    "model.con2=Constraint(expr=3*model.x-model.y>=10)\n",
    "\n",
    "solver=SolverFactory('glpk')\n",
    "results=solver.solve(model)\n",
    "print(results)\n",
    "\n",
    "print('the value of x is', value(model.x))\n",
    "print('the value of y is', value(model.y))\n",
    "print('the maximum is', value(model.obj))"
   ]
  },
  {
   "cell_type": "code",
   "execution_count": 3,
   "metadata": {},
   "outputs": [
    {
     "name": "stdout",
     "output_type": "stream",
     "text": [
      "\n",
      "Problem: \n",
      "- Name: unknown\n",
      "  Lower bound: 10.0\n",
      "  Upper bound: 10.0\n",
      "  Number of objectives: 1\n",
      "  Number of constraints: 3\n",
      "  Number of variables: 3\n",
      "  Number of nonzeros: 5\n",
      "  Sense: maximize\n",
      "Solver: \n",
      "- Status: ok\n",
      "  Termination condition: optimal\n",
      "  Statistics: \n",
      "    Branch and bound: \n",
      "      Number of bounded subproblems: 0\n",
      "      Number of created subproblems: 0\n",
      "  Error rc: 0\n",
      "  Time: 0.052433013916015625\n",
      "Solution: \n",
      "- number of solutions: 0\n",
      "  number of solutions displayed: 0\n",
      "\n",
      "the value of x is 0.0\n",
      "the value of y is 1.0\n",
      "the maximum is 10.0\n"
     ]
    }
   ],
   "source": [
    "from pyomo.environ import *\n",
    "from pyomo.opt import *\n",
    "\n",
    "model=ConcreteModel()\n",
    "\n",
    "model.x=Var(within=NonNegativeReals)\n",
    "model.y=Var(within=NonNegativeReals)\n",
    "\n",
    "model.obj=Objective(expr=5*model.x+10*model.y, sense=maximize)\n",
    "\n",
    "model.con1=Constraint(expr=2*model.x+3*model.y<=3)\n",
    "model.con2=Constraint(expr=model.x-model.y<=2)\n",
    "\n",
    "solver=SolverFactory('glpk')\n",
    "results=solver.solve(model)\n",
    "print(results)\n",
    "\n",
    "print('the value of x is', value(model.x))\n",
    "print('the value of y is', value(model.y))\n",
    "print('the maximum is', value(model.obj))"
   ]
  },
  {
   "cell_type": "code",
   "execution_count": null,
   "metadata": {},
   "outputs": [],
   "source": []
  }
 ],
 "metadata": {
  "kernelspec": {
   "display_name": "Python 3",
   "language": "python",
   "name": "python3"
  },
  "language_info": {
   "codemirror_mode": {
    "name": "ipython",
    "version": 3
   },
   "file_extension": ".py",
   "mimetype": "text/x-python",
   "name": "python",
   "nbconvert_exporter": "python",
   "pygments_lexer": "ipython3",
   "version": "3.8.3"
  }
 },
 "nbformat": 4,
 "nbformat_minor": 2
}
